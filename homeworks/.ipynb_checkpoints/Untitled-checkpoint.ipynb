{
 "cells": [
  {
   "cell_type": "code",
   "execution_count": 2,
   "id": "f5693f33",
   "metadata": {},
   "outputs": [],
   "source": [
    "import numpy as np\n",
    "import matplotlib.pyplot as plt\n"
   ]
  },
  {
   "cell_type": "code",
   "execution_count": null,
   "id": "6d88db84",
   "metadata": {},
   "outputs": [],
   "source": []
  },
  {
   "cell_type": "code",
   "execution_count": 3,
   "id": "a6a1d8ff",
   "metadata": {},
   "outputs": [],
   "source": [
    "class KNNClassifier:\n",
    "    \n",
    "    def __init__(self, n_neighbors: int = 5, p: int = 2) -> None:\n",
    "        \"\"\"\n",
    "        Attributes\n",
    "        ------\n",
    "        n_neighbors: int, default=5\n",
    "            Number of neighbors to use.\n",
    "\n",
    "        p: int, default=2\n",
    "            Power parameter for the Minkowski metric. When p = 1, this is\n",
    "            equivalent to using manhattan_distance (l1), and euclidean_distance\n",
    "            (l2) for p = 2.\n",
    "        \"\"\"\n",
    "        self.n_neighbors = n_neighbors\n",
    "        self.p = p \n",
    "        \n",
    "    def euclidian_distance(first: np.array, second: np.array) -> np.array:\n",
    "        Z = first[:,None] - second[None,:]\n",
    "        Z = (Z**2).sum(axis = 2)\n",
    "        Z = np.sqrt(Z)\n",
    "        return Z\n",
    "    \n",
    "    def manhattan_distance(first: np.array, second: np.array) -> np.array:\n",
    "        Z = np.abs(first[:,None] - second[None,:])\n",
    "        Z = Z.sum(axis = 2)\n",
    "        return Z\n",
    "        \n",
    "    def fit(self, X: np.ndarray, y: np.ndarray) -> 'KNNClassifier': \n",
    "        \"\"\"\n",
    "        Fit the k-nearest neighbors classifier from the training dataset.\n",
    "\n",
    "        Parameters\n",
    "        ----------\n",
    "        X: matrix of shape (n_samples, n_features)\n",
    "            Training data.\n",
    "        y: array of shape (n_samples,) \n",
    "            Target values.\n",
    "\n",
    "        Returns\n",
    "        -------\n",
    "        self : KNNClassifier\n",
    "            The fitted k-nearest neighbors classifier.\n",
    "        \"\"\"\n",
    "        self.X_train = X\n",
    "        self.y_train = y\n",
    "        return self\n",
    "\n",
    "    def predict(self, X: np.ndarray) -> np.ndarray:\n",
    "        \"\"\"\n",
    "        Predict the class labels for the provided data.\n",
    "        \n",
    "        Parameters\n",
    "        ----------\n",
    "        X: matrix of shape (n_test_samples, n_features)\n",
    "            Test samples.\n",
    "\n",
    "        Returns\n",
    "        -------\n",
    "        y: array of shape (n_test_samples,) \n",
    "            Predicted class labels for each data sample.\n",
    "        \"\"\"\n",
    "        if(self.p == 1):\n",
    "            dist = manhattan_distance(X, self.X_train)\n",
    "        else:\n",
    "            dist = euclidian_distance(X, self.X_train)\n",
    "        \n",
    "        ind = np.argsort(dist,axis = 1)\n",
    "        len_y = len(y)\n",
    "        y = np.tile(self.y_train,len(ind))\n",
    "        y = np.reshape(y, (len(ind), len_y))\n",
    "        y = y[:,ind][0]   \n",
    "        y = y[:, :self.n_neighbors]\n",
    "        \n",
    "        el, counts = np.unique(y, return_inverse=True)\n",
    "        \n",
    "        y_pred = el[np.argmax(np.apply_along_axis(np.bincount, 1, counts.reshape(y.shape), None, np.max(counts) + 1), axis = 1)]\n",
    "\n",
    "        return y_pred\n",
    "    "
   ]
  },
  {
   "cell_type": "code",
   "execution_count": 4,
   "id": "89fee20e",
   "metadata": {},
   "outputs": [],
   "source": [
    "def euclidian_distance(first: np.array, second: np.array) -> np.array:\n",
    "        Z = first[:,None] - second[None,:]\n",
    "        Z = (Z**2).sum(axis = 2)\n",
    "        Z = np.sqrt(Z)\n",
    "        return Z"
   ]
  },
  {
   "cell_type": "code",
   "execution_count": 5,
   "id": "62172e02",
   "metadata": {},
   "outputs": [],
   "source": [
    "def manhattan_distance(first: np.array, second: np.array) -> np.array:\n",
    "        Z = np.abs(first[:,None] - second[None,:])\n",
    "        Z = Z.sum(axis = 2)\n",
    "        return Z"
   ]
  },
  {
   "cell_type": "code",
   "execution_count": 6,
   "id": "cd5ed881",
   "metadata": {},
   "outputs": [],
   "source": [
    "a = np.array([[0,1,2], [1,2,3]])\n",
    "b = np.array([[4,5,6],[0,2,3],[3,4,5]])"
   ]
  },
  {
   "cell_type": "code",
   "execution_count": 7,
   "id": "fb5c2d99",
   "metadata": {},
   "outputs": [
    {
     "data": {
      "text/plain": [
       "array([[0, 1, 2],\n",
       "       [1, 2, 3]])"
      ]
     },
     "execution_count": 7,
     "metadata": {},
     "output_type": "execute_result"
    }
   ],
   "source": [
    "a"
   ]
  },
  {
   "cell_type": "code",
   "execution_count": 8,
   "id": "5679a553",
   "metadata": {},
   "outputs": [
    {
     "data": {
      "text/plain": [
       "array([[4, 5, 6],\n",
       "       [0, 2, 3],\n",
       "       [3, 4, 5]])"
      ]
     },
     "execution_count": 8,
     "metadata": {},
     "output_type": "execute_result"
    }
   ],
   "source": [
    "b"
   ]
  },
  {
   "cell_type": "code",
   "execution_count": 9,
   "id": "e2a3a392",
   "metadata": {},
   "outputs": [
    {
     "data": {
      "text/plain": [
       "array([[12,  2,  9],\n",
       "       [ 9,  1,  6]])"
      ]
     },
     "execution_count": 9,
     "metadata": {},
     "output_type": "execute_result"
    }
   ],
   "source": [
    "dist = manhattan_distance(a,b)\n",
    "dist"
   ]
  },
  {
   "cell_type": "code",
   "execution_count": 10,
   "id": "b2c726b3",
   "metadata": {},
   "outputs": [
    {
     "data": {
      "text/plain": [
       "array([[1, 2, 0],\n",
       "       [1, 2, 0]], dtype=int64)"
      ]
     },
     "execution_count": 10,
     "metadata": {},
     "output_type": "execute_result"
    }
   ],
   "source": [
    "ind = np.argsort(dist,axis = 1)\n",
    "ind"
   ]
  },
  {
   "cell_type": "code",
   "execution_count": 11,
   "id": "6a86023d",
   "metadata": {},
   "outputs": [
    {
     "data": {
      "text/plain": [
       "array([[2, 1, 0],\n",
       "       [2, 1, 0]])"
      ]
     },
     "execution_count": 11,
     "metadata": {},
     "output_type": "execute_result"
    }
   ],
   "source": [
    "y = np.array([2,1,0])\n",
    "y1 = y\n",
    "y=  np.tile(y,len(ind))\n",
    "y = np.reshape(y,(len(ind),3))\n",
    "y"
   ]
  },
  {
   "cell_type": "code",
   "execution_count": 12,
   "id": "ca3d85b3",
   "metadata": {},
   "outputs": [
    {
     "data": {
      "text/plain": [
       "array([[1, 0, 2],\n",
       "       [1, 0, 2]])"
      ]
     },
     "execution_count": 12,
     "metadata": {},
     "output_type": "execute_result"
    }
   ],
   "source": [
    "y = y[:,ind][0]\n",
    "y"
   ]
  },
  {
   "cell_type": "code",
   "execution_count": 13,
   "id": "5df7d416",
   "metadata": {},
   "outputs": [
    {
     "data": {
      "text/plain": [
       "array([[2, 2, 3],\n",
       "       [2, 3, 3]])"
      ]
     },
     "execution_count": 13,
     "metadata": {},
     "output_type": "execute_result"
    }
   ],
   "source": [
    "cy = np.array([[2,2,3],[2,3,3]])\n",
    "cy"
   ]
  },
  {
   "cell_type": "code",
   "execution_count": 14,
   "id": "2abb1c6d",
   "metadata": {},
   "outputs": [],
   "source": [
    "el, counts = np.unique(cy, return_inverse=True)"
   ]
  },
  {
   "cell_type": "code",
   "execution_count": 15,
   "id": "c7dfbf65",
   "metadata": {},
   "outputs": [
    {
     "data": {
      "text/plain": [
       "array([2, 3])"
      ]
     },
     "execution_count": 15,
     "metadata": {},
     "output_type": "execute_result"
    }
   ],
   "source": [
    "el"
   ]
  },
  {
   "cell_type": "code",
   "execution_count": 16,
   "id": "39c13758",
   "metadata": {},
   "outputs": [
    {
     "data": {
      "text/plain": [
       "array([2, 2, 3, 2, 3, 3])"
      ]
     },
     "execution_count": 16,
     "metadata": {},
     "output_type": "execute_result"
    }
   ],
   "source": [
    "el[counts]"
   ]
  },
  {
   "cell_type": "code",
   "execution_count": 17,
   "id": "f46187fa",
   "metadata": {},
   "outputs": [
    {
     "data": {
      "text/plain": [
       "array([2, 3])"
      ]
     },
     "execution_count": 17,
     "metadata": {},
     "output_type": "execute_result"
    }
   ],
   "source": [
    "el[np.argmax(np.apply_along_axis(np.bincount, 1, counts.reshape(cy.shape), None, np.max(counts) + 1), axis = 1)]"
   ]
  },
  {
   "cell_type": "code",
   "execution_count": 18,
   "id": "a5332622",
   "metadata": {},
   "outputs": [],
   "source": [
    "a = np.empty((1,2))"
   ]
  },
  {
   "cell_type": "code",
   "execution_count": 19,
   "id": "bd9a176a",
   "metadata": {},
   "outputs": [
    {
     "data": {
      "text/plain": [
       "array([[0.e+000, 5.e-324]])"
      ]
     },
     "execution_count": 19,
     "metadata": {},
     "output_type": "execute_result"
    }
   ],
   "source": [
    "a"
   ]
  },
  {
   "cell_type": "code",
   "execution_count": 20,
   "id": "0af497e1",
   "metadata": {},
   "outputs": [
    {
     "name": "stdout",
     "output_type": "stream",
     "text": [
      "[[0.e+000 5.e-324]]\n"
     ]
    }
   ],
   "source": [
    "np.append(a,np.array([[1,2]]),axis = 0)\n",
    "print(a)"
   ]
  },
  {
   "cell_type": "code",
   "execution_count": 21,
   "id": "fc43365e",
   "metadata": {},
   "outputs": [
    {
     "data": {
      "text/plain": [
       "array([0])"
      ]
     },
     "execution_count": 21,
     "metadata": {},
     "output_type": "execute_result"
    }
   ],
   "source": [
    "n, p = 1, .2  # number of trials, probability of each trial\n",
    "s = np.random.binomial(n, p, 1)\n",
    "s"
   ]
  },
  {
   "cell_type": "code",
   "execution_count": 22,
   "id": "63a4274c",
   "metadata": {},
   "outputs": [
    {
     "data": {
      "text/plain": [
       "array([[1, 2]])"
      ]
     },
     "execution_count": 22,
     "metadata": {},
     "output_type": "execute_result"
    }
   ],
   "source": [
    "arr = np.array([[1,2]])\n",
    "arr"
   ]
  },
  {
   "cell_type": "code",
   "execution_count": 23,
   "id": "75b92613",
   "metadata": {},
   "outputs": [
    {
     "data": {
      "text/plain": [
       "array([[1, 2],\n",
       "       [2, 3]])"
      ]
     },
     "execution_count": 23,
     "metadata": {},
     "output_type": "execute_result"
    }
   ],
   "source": [
    "np.append(arr, [[2,3]],axis = 0)"
   ]
  },
  {
   "cell_type": "code",
   "execution_count": 24,
   "id": "da79527e",
   "metadata": {},
   "outputs": [],
   "source": [
    "mapping = {0: np.array([1, 0]), \n",
    "                        1: np.array([-1, 0]),\n",
    "                        2: np.array([0, 1]),\n",
    "                        3: np.array([0, -1])}\n"
   ]
  },
  {
   "cell_type": "code",
   "execution_count": 25,
   "id": "5758edfb",
   "metadata": {},
   "outputs": [
    {
     "name": "stdout",
     "output_type": "stream",
     "text": [
      "[1 0]\n"
     ]
    }
   ],
   "source": [
    "print(mapping[0])"
   ]
  },
  {
   "cell_type": "code",
   "execution_count": 26,
   "id": "997ddbf0",
   "metadata": {},
   "outputs": [],
   "source": [
    "np.random.seed(12345)\n",
    "x = np.arange(30)\n",
    "\n",
    "landmarks = np.vstack((x, x + np.round(np.random.normal(0, 2, len(x))))).T"
   ]
  },
  {
   "cell_type": "code",
   "execution_count": 27,
   "id": "04763acb",
   "metadata": {},
   "outputs": [
    {
     "data": {
      "text/plain": [
       "array([0., 0.])"
      ]
     },
     "execution_count": 27,
     "metadata": {},
     "output_type": "execute_result"
    }
   ],
   "source": [
    "a = landmarks[0]\n",
    "a"
   ]
  },
  {
   "cell_type": "code",
   "execution_count": 28,
   "id": "14902f8f",
   "metadata": {},
   "outputs": [
    {
     "data": {
      "text/plain": [
       "array([[0., 0.]])"
      ]
     },
     "execution_count": 28,
     "metadata": {},
     "output_type": "execute_result"
    }
   ],
   "source": [
    "a[None,:]"
   ]
  },
  {
   "cell_type": "code",
   "execution_count": 73,
   "id": "ef0f03cb",
   "metadata": {},
   "outputs": [],
   "source": [
    "dist = np.array([[1,2,3],[2,3,4],[5,4,6],[10,8,4]])\n",
    "\n",
    "y_train = np.array([1,1,2])\n",
    "        \n",
    "ind = np.argsort(dist,axis = 1)\n",
    "len_y = len(y_train)\n",
    "y = np.tile(y_train,len(ind))\n",
    "y = np.reshape(y, (len(ind), len_y))"
   ]
  },
  {
   "cell_type": "code",
   "execution_count": 75,
   "id": "bd18489a",
   "metadata": {},
   "outputs": [
    {
     "data": {
      "text/plain": [
       "array([[1, 1, 2],\n",
       "       [1, 1, 2],\n",
       "       [1, 1, 2],\n",
       "       [2, 1, 1]])"
      ]
     },
     "execution_count": 75,
     "metadata": {},
     "output_type": "execute_result"
    }
   ],
   "source": [
    "y = y[:,ind][0]\n"
   ]
  },
  {
   "cell_type": "code",
   "execution_count": 78,
   "id": "46f89e30",
   "metadata": {},
   "outputs": [
    {
     "data": {
      "text/plain": [
       "array([[1, 1],\n",
       "       [1, 1],\n",
       "       [1, 1],\n",
       "       [2, 1]])"
      ]
     },
     "execution_count": 78,
     "metadata": {},
     "output_type": "execute_result"
    }
   ],
   "source": [
    "y"
   ]
  },
  {
   "cell_type": "code",
   "execution_count": 76,
   "id": "548f9c62",
   "metadata": {},
   "outputs": [],
   "source": [
    "y = y[:, :2]\n",
    "        \n",
    "el, counts = np.unique(y, return_inverse=True)\n",
    "\n",
    "counts = counts.reshape(y.shape)\n",
    "        \n",
    "y_pred = el[np.argmax(np.apply_along_axis(np.bincount, 1, counts, None, np.max(counts) + 1), axis = 1)]"
   ]
  },
  {
   "cell_type": "code",
   "execution_count": 77,
   "id": "83399013",
   "metadata": {},
   "outputs": [
    {
     "data": {
      "text/plain": [
       "array([1, 2])"
      ]
     },
     "execution_count": 77,
     "metadata": {},
     "output_type": "execute_result"
    }
   ],
   "source": [
    "el"
   ]
  },
  {
   "cell_type": "code",
   "execution_count": 81,
   "id": "98d8b0ea",
   "metadata": {},
   "outputs": [
    {
     "data": {
      "text/plain": [
       "array([[0, 0],\n",
       "       [0, 0],\n",
       "       [0, 0],\n",
       "       [1, 0]], dtype=int64)"
      ]
     },
     "execution_count": 81,
     "metadata": {},
     "output_type": "execute_result"
    }
   ],
   "source": [
    "counts.reshape(y.shape)"
   ]
  },
  {
   "cell_type": "code",
   "execution_count": 83,
   "id": "8caf26cd",
   "metadata": {},
   "outputs": [
    {
     "data": {
      "text/plain": [
       "array([[1, 2],\n",
       "       [0, 5]])"
      ]
     },
     "execution_count": 83,
     "metadata": {},
     "output_type": "execute_result"
    }
   ],
   "source": [
    "trajectory = np.array([[1,2],[0,5]])\n",
    "trajectory"
   ]
  },
  {
   "cell_type": "code",
   "execution_count": 85,
   "id": "953c0149",
   "metadata": {},
   "outputs": [
    {
     "data": {
      "text/plain": [
       "array([[0, 5]])"
      ]
     },
     "execution_count": 85,
     "metadata": {},
     "output_type": "execute_result"
    }
   ],
   "source": [
    "last_position = trajectory[-1]\n",
    "last_position[None,:]"
   ]
  },
  {
   "cell_type": "code",
   "execution_count": null,
   "id": "3d6f85a9",
   "metadata": {},
   "outputs": [],
   "source": []
  }
 ],
 "metadata": {
  "kernelspec": {
   "display_name": "Python 3",
   "language": "python",
   "name": "python3"
  },
  "language_info": {
   "codemirror_mode": {
    "name": "ipython",
    "version": 3
   },
   "file_extension": ".py",
   "mimetype": "text/x-python",
   "name": "python",
   "nbconvert_exporter": "python",
   "pygments_lexer": "ipython3",
   "version": "3.8.8"
  }
 },
 "nbformat": 4,
 "nbformat_minor": 5
}
