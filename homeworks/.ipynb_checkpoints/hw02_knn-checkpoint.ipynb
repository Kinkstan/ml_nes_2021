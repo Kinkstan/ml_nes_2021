{
 "cells": [
  {
   "cell_type": "markdown",
   "metadata": {
    "id": "5uUUOTZBOoAR"
   },
   "source": [
    "# Домашняя работа 2. KNN\n",
    "\n",
    "*Дедлайн: 6 октября, 21:00*"
   ]
  },
  {
   "cell_type": "markdown",
   "metadata": {},
   "source": [
    "### Оценивание и штрафы\n",
    "\n",
    "Максимальная оценка - 5 баллов.\n",
    "\n",
    "Не списывайте, иначе всем участникам обнулим :)"
   ]
  },
  {
   "cell_type": "code",
   "execution_count": 14,
   "metadata": {},
   "outputs": [],
   "source": [
    "import numpy as np\n",
    "import matplotlib.pyplot as plt"
   ]
  },
  {
   "cell_type": "markdown",
   "metadata": {},
   "source": [
    "### Часть 1. Мой KNN 👒"
   ]
  },
  {
   "cell_type": "markdown",
   "metadata": {},
   "source": [
    "**Задание 1.1 (2 балла)** Реализуйте свой собственный класс для KNN. Сделайте возможность выбора метрики расстояния: евклидова или манхэттанская (это все — частные случаи метрики [Минковского](https://ru.wikipedia.org/wiki/Расстояние_Минковского)).\n"
   ]
  },
  {
   "cell_type": "code",
   "execution_count": 15,
   "metadata": {
    "id": "TFum114bLdjb"
   },
   "outputs": [],
   "source": [
    "from sklearn.base import BaseEstimator\n",
    "from __future__ import annotations\n",
    "\n",
    "class KNNClassifier(BaseEstimator):\n",
    "    def __init__(self, n_neighbors: int = 5, p: int = 2) -> None:\n",
    "        \"\"\"\n",
    "        Attributes\n",
    "        ------\n",
    "        n_neighbors: int, default=5\n",
    "            Number of neighbors to use.\n",
    "\n",
    "        p: int, default=2\n",
    "            Power parameter for the Minkowski metric. When p = 1, this is\n",
    "            equivalent to using manhattan_distance (l1), and euclidean_distance\n",
    "            (l2) for p = 2.\n",
    "        \"\"\"\n",
    "        \n",
    "        self.n_neighbors = n_neighbors\n",
    "        self.p = p \n",
    "\n",
    "\n",
    "    def fit(self, X: np.ndarray, y: np.ndarray) -> KNNClassifier: \n",
    "        \"\"\"\n",
    "        Fit the k-nearest neighbors classifier from the training dataset.\n",
    "\n",
    "        Parameters\n",
    "        ----------\n",
    "        X: matrix of shape (n_samples, n_features)\n",
    "            Training data.\n",
    "        y: array of shape (n_samples,) \n",
    "            Target values.\n",
    "\n",
    "        Returns\n",
    "        -------\n",
    "        self : KNNClassifier\n",
    "            The fitted k-nearest neighbors classifier.\n",
    "        \"\"\"\n",
    "        self.X_train = X\n",
    "        self.y_train = y\n",
    "        return self\n",
    "    \n",
    "    @staticmethod\n",
    "    def minkowski_distance(first: np.array, second: np.array, p: int) -> np.array:\n",
    "        Z = np.abs(first[:,None] - second[None,:]) ** p\n",
    "        Z = Z.sum(axis = 2)\n",
    "        Z = Z ** (1/p)\n",
    "        return Z\n",
    "    \n",
    "\n",
    "    def predict(self, X: np.ndarray) -> np.ndarray:\n",
    "        \"\"\"\n",
    "        Predict the class labels for the provided data.\n",
    "        \n",
    "        Parameters\n",
    "        ----------\n",
    "        X: matrix of shape (n_test_samples, n_features)\n",
    "            Test samples.\n",
    "\n",
    "        Returns\n",
    "        -------\n",
    "        y: array of shape (n_test_samples,) \n",
    "            Predicted class labels for each data sample.\n",
    "        \"\"\"\n",
    "            \n",
    "        dist = KNNClassifier.minkowski_distance(X, self.X_train, self.p)\n",
    "        \n",
    "        ind = np.argsort(dist,axis = 1)\n",
    "        len_y = len(self.y_train)\n",
    "        y = np.tile(self.y_train,len(ind))\n",
    "        y = np.reshape(y, (len(ind), len_y))\n",
    "        y = y[:,ind][0]   \n",
    "        y = y[:, :self.n_neighbors]\n",
    "        \n",
    "        el, counts = np.unique(y, return_inverse=True)\n",
    "        \n",
    "        counts = counts.reshape(y.shape)\n",
    "        \n",
    "        bin_cnt = np.apply_along_axis(np.bincount, 1, counts, None, np.max(counts) + 1)\n",
    "        \n",
    "        indexes = np.argmax(bin_cnt, axis = 1)\n",
    "        \n",
    "        y_pred = el[indexes]\n",
    "\n",
    "        return y_pred\n",
    "    \n",
    "    "
   ]
  },
  {
   "cell_type": "markdown",
   "metadata": {},
   "source": [
    "**Задание 1.2 (1  балл)** \n",
    "Обучите свой KNN для предсказания наличия болезни сердца. Данные лежат [здесь](https://github.com/AsyaKarpova/ml_nes_2020/blob/master/homeworks/heart_hw3.csv).\n",
    "\n",
    "\n",
    "Описание данных:\n",
    "\n",
    "- age - age in years\n",
    "\n",
    "- sex - (1 = male; 0 = female)\n",
    "\n",
    "- cpchest - pain type\n",
    "\n",
    "- trestbpsresting - blood pressure (in mm Hg on admission to the hospital)\n",
    "\n",
    "- cholserum - cholestoral in mg/dl\n",
    "\n",
    "- fbs - (fasting blood sugar > 120 mg/dl) (1 = true; 0 = false)\n",
    "\n",
    "- restecg - resting electrocardiographic results\n",
    "\n",
    "- thalach - maximum heart rate achieved\n",
    "\n",
    "- exang - exercise induced angina (1 = yes; 0 = no)\n",
    "\n",
    "- oldpeak - ST depression induced by exercise relative to rest\n",
    "\n",
    "- slope - the slope of the peak exercise ST segment\n",
    "\n",
    "- ca - number of major vessels (0-3) colored by flourosopy\n",
    "\n",
    "- thal - 3 = normal; 6 = fixed defect; 7 = reversable defect\n",
    "\n",
    "- target - the presence of heart disease in the patient (**u should predict**)\n",
    "\n",
    "\n",
    "\n",
    "С помощью кросс-валидации (можно использовать, например, `GridSearchCV`) подберите оптимальное для этой задачи число соседей и метрику расстояния. \n",
    "Оцените качество алгоритма с лучшим набором гиперпараметров с помощью `sklearn.model_selection.cross_val_score`, в качестве метрики используйте `accuracy` (`scoring=accuracy`)."
   ]
  },
  {
   "cell_type": "code",
   "execution_count": 16,
   "metadata": {},
   "outputs": [
    {
     "name": "stdout",
     "output_type": "stream",
     "text": [
      "Best k: 5\n",
      "Best metrics: 1\n",
      "[0.60655738 0.6557377  0.70491803 0.43333333 0.41666667]\n"
     ]
    }
   ],
   "source": [
    "import pandas as pd\n",
    "from sklearn.model_selection import GridSearchCV, cross_val_score\n",
    "from sklearn.utils import shuffle\n",
    "\n",
    "data = pd.read_csv(\"heart_hw3.csv\")\n",
    "data.head(15)\n",
    "\n",
    "#data = (data - data.min())/(data.max()-data.min()) <-- normalization\n",
    "\n",
    "\n",
    "arr = data.to_numpy()\n",
    "X_train = arr[:,:-1]\n",
    "y_train = arr[:,-1]\n",
    "\n",
    "#X_train, y_train = shuffle(X_train, y_train) # <--- shuffle, because in the data there are all 0 in the beginning, \n",
    "# and all 1 after them, so with shuffle and normalization scores in cross-validation are much higher\n",
    "\n",
    "clf = KNNClassifier()\n",
    "clf.fit(X_train,y_train)\n",
    "\n",
    "clf_cv = GridSearchCV(estimator=clf,param_grid={'n_neighbors': np.arange(1, 20),'p': np.array([1,2])}, cv = 5, scoring='accuracy')\n",
    "clf_cv.fit(X_train, y_train)\n",
    "cv_results = pd.DataFrame(clf_cv.cv_results_)\n",
    "\n",
    "best_est = clf_cv.best_estimator_\n",
    "best_par = clf_cv.best_params_\n",
    "best_k = best_par['n_neighbors']\n",
    "best_p = best_par['p']\n",
    "\n",
    "print(\"Best k:\", best_k)\n",
    "print(\"Best metrics:\", best_p)\n",
    "\n",
    "print(cross_val_score(best_est, X_train,y_train, scoring = 'accuracy'))"
   ]
  },
  {
   "cell_type": "markdown",
   "metadata": {},
   "source": [
    "### Часть 2. Мой Робот <имя> 👒"
   ]
  },
  {
   "cell_type": "markdown",
   "metadata": {},
   "source": [
    "В этом задании мы рассмотрим упрощённую идею того, как метод ближайших соседей можно применить при моделировании движения робота. \n",
    "\n",
    "Рассмотрим робота на дискретной двумерной плоскости, который за каждый момент дискретного времени может передвинуться на одну позицию вправо, влево, вверх или вниз. На плоскости разбросаны метки одного из четырёх классов, анализируя которые робот может (но не обязан) корректировать своё перемещение. Пусть метки класса 0 соответствуют сигналу переместиться вправо, метки класса 1 – влево, класса 2 – вверх, класса 3 – вниз. \n",
    "\n",
    "Передвижение робота осуществляется по следующему правилу: с вероятностью 0.2 робот передвинется вправо, а с вероятностью 0.8 – оценит, метки какого класса преобладают среди `k` его ближайших соседей, и передвинется в направлении, на которое указывает доминирующий класс. \n",
    "\n",
    "Для лучшего понимания происходящего изобразим возможное положение робота и меток:"
   ]
  },
  {
   "cell_type": "code",
   "execution_count": 17,
   "metadata": {},
   "outputs": [
    {
     "data": {
      "image/png": "[encoded data removed]",
      "text/plain": [
       "<Figure size 720x504 with 1 Axes>"
      ]
     },
     "metadata": {
      "needs_background": "light"
     },
     "output_type": "display_data"
    }
   ],
   "source": [
    "np.random.seed(12345)\n",
    "x = np.arange(20)\n",
    "landmarks = x + np.round(np.random.normal(2, 8, 20)) #сгенерируем случайные метки\n",
    "random_classes = np.random.randint(0, 4, 20)\n",
    "\n",
    "fig, ax = plt.subplots(figsize = (10, 7))\n",
    "scatter = ax.scatter(x, landmarks, c = random_classes)\n",
    "ax.scatter(4, 7, c = 'r', marker = 'o', label = 'robot position')\n",
    "legend1 = ax.legend(*scatter.legend_elements(),\n",
    "                    loc = \"lower left\", title = \"Classes\")\n",
    "ax.add_artist(legend1)\n",
    "\n",
    "plt.plot()\n",
    "_ = plt.legend()\n",
    "_ = plt.grid()"
   ]
  },
  {
   "cell_type": "markdown",
   "metadata": {},
   "source": [
    "На следующем шаге робот передвинется на единичку либо вправо, либо в направлении, которое указывают ближайшие соседи."
   ]
  },
  {
   "cell_type": "markdown",
   "metadata": {},
   "source": [
    "**Задание 2.1 (1.5 балла)** Реализуйте класс, который задаёт описанное поведение робота, используя шаблон ниже:\n",
    "1. Определите атрибуты `trajectory` (переменная для хранения истории перемещения робота в виде последовательности точек с двумя координатами) и `knn` (обученный kNN классификатор, который по позиции метки предсказывает её класс).\n",
    "2. Определите метод `move()`: рассчитайте новое положение робота по правилам выше и добавьте его в историю перемещений. \n",
    "\n",
    "Подсказка: исходы можно интерпретировать как результаты подбрасывания монетки с вероятностью орла, равной 0.2. Для моделирования такого подбрасывания можно использовать, например, `np.random.binomial()` с правильными параметрами.\n",
    "\n",
    "\n",
    "3. Внутри этого класса вы можете использовать свою реализацию kNN (если уверены, что она норм) либо реализацию из sklearn."
   ]
  },
  {
   "cell_type": "code",
   "execution_count": 18,
   "metadata": {},
   "outputs": [],
   "source": [
    "from sklearn.neighbors import KNeighborsClassifier"
   ]
  },
  {
   "cell_type": "code",
   "execution_count": 19,
   "metadata": {},
   "outputs": [],
   "source": [
    "class MobileRobot:\n",
    "    def __init__(self, k: int, initial_position: np.ndarray, \n",
    "                 landmarks: np.ndarray, \n",
    "                 classes: np.ndarray) -> None:\n",
    "        \"\"\"\n",
    "        Attributes\n",
    "        ------\n",
    "        k: int\n",
    "            Number of neighbours\n",
    "            \n",
    "        initial_position: ndarray\n",
    "            Initial position of the robot as a point, e.g. (-1, 1)\n",
    "            \n",
    "        landmarks: ndarray\n",
    "            numpy array of shape (n_landmarks, 2) with the euclidean positions of points\n",
    "        \n",
    "        classes: ndarray\n",
    "            numpy array of shape (n_landmarks,) with class of landmark for each point in landmarks\n",
    "        \n",
    "        \"\"\"\n",
    "        # Store the history of movements\n",
    "        self.trajectory = np.array([initial_position])\n",
    "    \n",
    "        # Fitted kNN Classifier for determining the classes of landmarks\n",
    "        self.knn = KNeighborsClassifier(n_neighbors=k).fit(landmarks, classes)\n",
    "        \n",
    "        # Mapping between classes of points and movements\n",
    "        self.mapping = {0: np.array([1, 0]), \n",
    "                        1: np.array([-1, 0]),\n",
    "                        2: np.array([0, 1]),\n",
    "                        3: np.array([0, -1])}\n",
    "        \n",
    "    def move(self) -> None:\n",
    "        \"\"\"\n",
    "        Calculate new position of the robot and add it to the history\n",
    "        \"\"\"\n",
    "        last_position = self.trajectory[-1]\n",
    "        flag = np.random.binomial(1,0.2,1)\n",
    "        direction = 0 #<---- initially the robot moves to the right\n",
    "        if(flag == 0): #<--- probability 0.8, moving using landmarks\n",
    "            direction = (self.knn).predict(last_position[None,:])\n",
    "            direction = direction[0]\n",
    "            \n",
    "        last_position += self.mapping[direction]\n",
    "            \n",
    "        self.trajectory = np.append(self.trajectory, [last_position], axis = 0)"
   ]
  },
  {
   "cell_type": "markdown",
   "metadata": {},
   "source": [
    "**Задание 2.2 (0.5 балла)** Дополните функцию `conduct_experiment`: определите переменную `traj` так, чтобы она содержала историю перемещения робота в виде двумерного массива numpy, в котором столбцы соответствуют координатам x и y соответствующей позиции."
   ]
  },
  {
   "cell_type": "code",
   "execution_count": 20,
   "metadata": {},
   "outputs": [],
   "source": [
    "def conduct_experiment(x,\n",
    "                       mean=0,\n",
    "                       std=2, \n",
    "                       n_movements=10, \n",
    "                       k=3, \n",
    "                       initial_position=np.array([10, 20])):\n",
    "    \n",
    "    np.random.seed(12345)\n",
    "    # Generate random landmarks\n",
    "    landmarks = np.vstack((x, x + np.round(np.random.normal(mean, std, len(x))))).T\n",
    "    \n",
    "    # Generate random classes of landmarks\n",
    "    classes = np.random.randint(0, 4, size = len(x))\n",
    "    \n",
    "    # Conduct experiment\"\n",
    "    robot = MobileRobot(k, initial_position, landmarks, classes)\n",
    "    \n",
    "    for n in range(n_movements):\n",
    "        robot.move()\n",
    "    \n",
    "    fig, ax = plt.subplots(figsize = (10, 8))\n",
    "    scatter = ax.scatter(landmarks[:, 0], landmarks[:, 1], c = classes)\n",
    "    legend1 = ax.legend(*scatter.legend_elements(),\n",
    "                        loc=\"lower left\", title=\"classes\")\n",
    "    ax.add_artist(legend1)\n",
    "    \n",
    "    traj = robot.trajectory\n",
    "    ax.plot(traj[:, 0], traj[:, 1], \n",
    "               c = 'r', marker = 'o', label = 'robot position')\n",
    "\n",
    "    plt.plot()\n",
    "    _ = plt.legend()\n",
    "    _ = plt.grid()"
   ]
  },
  {
   "cell_type": "code",
   "execution_count": 21,
   "metadata": {},
   "outputs": [
    {
     "data": {
      "image/png": "[encoded data removed]",
      "text/plain": [
       "<Figure size 720x576 with 1 Axes>"
      ]
     },
     "metadata": {
      "needs_background": "light"
     },
     "output_type": "display_data"
    }
   ],
   "source": [
    "x = np.arange(30)\n",
    "conduct_experiment(x, mean=3, std=10, k=5, n_movements=50)"
   ]
  },
  {
   "cell_type": "markdown",
   "metadata": {},
   "source": [
    "**Задание 2.3 (0.01 балл)** Порадуйте ассистента ссылкой на свой любимый фильм/сериал/плейлист👒"
   ]
  },
  {
   "cell_type": "code",
   "execution_count": 22,
   "metadata": {},
   "outputs": [],
   "source": [
    "# https://www.kinopoisk.ru/film/447301/  <--- Inception(2012) :) "
   ]
  }
 ],
 "metadata": {
  "colab": {
   "name": "Копия блокнота \"Build_Week_CS_1.ipynb\"",
   "provenance": []
  },
  "kernelspec": {
   "display_name": "Python 3",
   "language": "python",
   "name": "python3"
  },
  "language_info": {
   "codemirror_mode": {
    "name": "ipython",
    "version": 3
   },
   "file_extension": ".py",
   "mimetype": "text/x-python",
   "name": "python",
   "nbconvert_exporter": "python",
   "pygments_lexer": "ipython3",
   "version": "3.8.8"
  }
 },
 "nbformat": 4,
 "nbformat_minor": 1
}
